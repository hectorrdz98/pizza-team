{
 "cells": [
  {
   "cell_type": "code",
   "execution_count": 1,
   "id": "impaired-vegetable",
   "metadata": {},
   "outputs": [],
   "source": [
    "import pandas as pd"
   ]
  },
  {
   "cell_type": "code",
   "execution_count": 2,
   "id": "bronze-conversation",
   "metadata": {},
   "outputs": [],
   "source": [
    "# Load of all .csv\n",
    "df_ubereats_centro = pd.read_csv(r'csv/ubereats-pizza-centro.csv')\n",
    "df_ubereats_alamos = pd.read_csv(r'csv/ubereats-pizza-alamos.csv')\n",
    "df_ubereats_juriquilla = pd.read_csv(r'csv/ubereats-pizza-juriquilla.csv')\n",
    "df_ubereats_milenio = pd.read_csv(r'csv/ubereats-pizza-milenio.csv')\n",
    "df_ubereats_refugio = pd.read_csv(r'csv/ubereats-pizza-refugio.csv')\n",
    "df_ubereats_balvanera = pd.read_csv(r'csv/ubereats-pizza-balvanera.csv')\n",
    "df_ubereats_campanario = pd.read_csv(r'csv/ubereats-pizza-campanario.csv')\n",
    "df_ubereats_cerritocolorado = pd.read_csv(r'csv/ubereats-pizza-cerritocolorado.csv')\n",
    "df_ubereats_cimatario = pd.read_csv(r'csv/ubereats-pizza-cimatario.csv')\n",
    "df_ubereats_el_pueblito = pd.read_csv(r'csv/ubereats-pizza-el-pueblito.csv')\n",
    "\n",
    "df_rappi_centro = pd.read_csv(r'csv/rappi-pizza-centro.csv')\n",
    "df_rappi_alamos = pd.read_csv(r'csv/rappi-pizza-alamos.csv')\n",
    "df_rappi_juriquilla = pd.read_csv(r'csv/rappi-pizza-juriquilla.csv')\n",
    "df_rappi_milenio = pd.read_csv(r'csv/rappi-pizza-milenio.csv')\n",
    "df_rappi_refugio = pd.read_csv(r'csv/rappi-pizza-refugio.csv')\n",
    "df_rappi_balvanera = pd.read_csv(r'csv/rappi-pizza-balvanera.csv')\n",
    "df_rappi_campanario = pd.read_csv(r'csv/rappi-pizza-campanario.csv')\n",
    "df_rappi_cerritocolorado = pd.read_csv(r'csv/rappi-pizza-cerritocolorado.csv')\n",
    "df_rappi_cimatario = pd.read_csv(r'csv/rappi-pizza-cimatario.csv')\n",
    "df_rappi_el_pueblito = pd.read_csv(r'csv/rappi-pizza-el-pueblito.csv')\n",
    "\n",
    "df_centro = pd.concat([df_ubereats_centro, df_rappi_centro], ignore_index=True)\n",
    "df_alamos = pd.concat([df_ubereats_alamos, df_rappi_alamos], ignore_index=True)\n",
    "df_juriquilla = pd.concat([df_ubereats_juriquilla, df_rappi_juriquilla], ignore_index=True)\n",
    "df_milenio = pd.concat([df_ubereats_milenio, df_rappi_milenio], ignore_index=True)\n",
    "df_refugio = pd.concat([df_ubereats_refugio, df_rappi_refugio], ignore_index=True)\n",
    "df_balvanera = pd.concat([df_ubereats_balvanera, df_rappi_balvanera], ignore_index=True)\n",
    "df_campanario = pd.concat([df_ubereats_campanario, df_rappi_campanario], ignore_index=True)\n",
    "df_cerritocolorado = pd.concat([df_ubereats_cerritocolorado, df_rappi_cerritocolorado], ignore_index=True)\n",
    "df_cimatario = pd.concat([df_ubereats_cimatario, df_rappi_cimatario], ignore_index=True)\n",
    "df_pueblito = pd.concat([df_ubereats_el_pueblito, df_rappi_el_pueblito], ignore_index=True)"
   ]
  },
  {
   "cell_type": "code",
   "execution_count": 3,
   "id": "soviet-watch",
   "metadata": {},
   "outputs": [],
   "source": [
    "# Remove MX$ from price-food\n",
    "df_centro['price-food'] = df_centro['price-food'].apply(lambda x: (float(x[3:] if x[0] == 'M' else x[1:]) if not isinstance(x, int) else float(x)) if not isinstance(x, float) else x)\n",
    "df_alamos['price-food'] = df_alamos['price-food'].apply(lambda x: (float(x[3:] if x[0] == 'M' else x[1:]) if not isinstance(x, int) else float(x)) if not isinstance(x, float) else x)\n",
    "df_juriquilla['price-food'] = df_juriquilla['price-food'].apply(lambda x: (float(x[3:] if x[0] == 'M' else x[1:]) if not isinstance(x, int) else float(x)) if not isinstance(x, float) else x)\n",
    "df_milenio['price-food'] = df_milenio['price-food'].apply(lambda x: (float(x[3:] if x[0] == 'M' else x[1:]) if not isinstance(x, int) else float(x)) if not isinstance(x, float) else x)\n",
    "df_refugio['price-food'] =df_refugio['price-food'].apply(lambda x: (float(x[3:] if x[0] == 'M' else x[1:]) if not isinstance(x, int) else float(x)) if not isinstance(x, float) else x)\n",
    "df_balvanera['price-food'] = df_balvanera['price-food'].apply(lambda x: (float(x[3:] if x[0] == 'M' else x[1:]) if not isinstance(x, int) else float(x)) if not isinstance(x, float) else x)\n",
    "df_campanario['price-food'] = df_campanario['price-food'].apply(lambda x: (float(x[3:] if x[0] == 'M' else x[1:]) if not isinstance(x, int) else float(x)) if not isinstance(x, float) else x)\n",
    "df_cerritocolorado['price-food'] = df_cerritocolorado['price-food'].apply(lambda x: (float(x[3:] if x[0] == 'M' else x[1:]) if not isinstance(x, int) else float(x)) if not isinstance(x, float) else x)\n",
    "df_cimatario['price-food'] = df_cimatario['price-food'].apply(lambda x: (float(x[3:] if x[0] == 'M' else x[1:]) if not isinstance(x, int) else float(x)) if not isinstance(x, float) else x)\n",
    "df_pueblito['price-food'] = df_pueblito['price-food'].apply(lambda x: (float(x[3:] if x[0] == 'M' else x[1:]) if not isinstance(x, int) else float(x)) if not isinstance(x, float) else x)"
   ]
  },
  {
   "cell_type": "code",
   "execution_count": 4,
   "id": "finished-transportation",
   "metadata": {
    "scrolled": true
   },
   "outputs": [],
   "source": [
    "# Get all \"pizza\" dataframes\n",
    "dfPizzasCentro = df_centro[df_centro['name-food'].str.contains(\"pizza\", na=False, case=False)]\n",
    "dfPizzasAlamos = df_alamos[df_alamos['name-food'].str.contains(\"pizza\", na=False, case=False)]\n",
    "dfPizzasJuriquilla = df_juriquilla[df_juriquilla['name-food'].str.contains(\"pizza\", na=False, case=False)]\n",
    "dfPizzasMilenio = df_milenio[df_milenio['name-food'].str.contains(\"pizza\", na=False, case=False)]\n",
    "dfPizzasRefugio = df_refugio[df_refugio['name-food'].str.contains(\"pizza\", na=False, case=False)]\n",
    "dfPizzasBalvanera = df_balvanera[df_balvanera['name-food'].str.contains(\"pizza\", na=False, case=False)]\n",
    "dfPizzasCampanario = df_campanario[df_campanario['name-food'].str.contains(\"pizza\", na=False, case=False)]\n",
    "dfPizzasCerrito = df_cerritocolorado[df_cerritocolorado['name-food'].str.contains(\"pizza\", na=False, case=False)]\n",
    "dfPizzasCimatario = df_cimatario[df_cimatario['name-food'].str.contains(\"pizza\", na=False, case=False)]\n",
    "dfPizzasPueblito = df_pueblito[df_pueblito['name-food'].str.contains(\"pizza\", na=False, case=False)]\n",
    "\n",
    "dfPizzasCentro.reset_index(drop=True, inplace=True)\n",
    "dfPizzasAlamos.reset_index(drop=True, inplace=True)\n",
    "dfPizzasJuriquilla.reset_index(drop=True, inplace=True)\n",
    "dfPizzasMilenio.reset_index(drop=True, inplace=True)\n",
    "dfPizzasRefugio.reset_index(drop=True, inplace=True)\n",
    "dfPizzasBalvanera.reset_index(drop=True, inplace=True)\n",
    "dfPizzasCampanario.reset_index(drop=True, inplace=True)\n",
    "dfPizzasCerrito.reset_index(drop=True, inplace=True)\n",
    "dfPizzasCimatario.reset_index(drop=True, inplace=True)\n",
    "dfPizzasPueblito.reset_index(drop=True, inplace=True)"
   ]
  },
  {
   "cell_type": "code",
   "execution_count": 5,
   "id": "deluxe-tactics",
   "metadata": {},
   "outputs": [],
   "source": [
    "meanPizzaCentroVal = dfPizzasCentro['price-food'].mean()\n",
    "meanPizzaAlamosVal = dfPizzasAlamos['price-food'].mean()\n",
    "meanPizzaJuriquillaVal = dfPizzasJuriquilla['price-food'].mean()\n",
    "meanPizzaMilenioVal = dfPizzasMilenio['price-food'].mean()\n",
    "meanPizzaRefugioVal = dfPizzasRefugio['price-food'].mean()\n",
    "meanPizzaBalvaneraVal = dfPizzasBalvanera['price-food'].mean()\n",
    "meanPizzaCampanarioVal = dfPizzasCampanario['price-food'].mean()\n",
    "meanPizzaCerritoVal = dfPizzasCerrito['price-food'].mean()\n",
    "meanPizzaCimatarioVal = dfPizzasCimatario['price-food'].mean()\n",
    "meanPizzaPueblitoVal = dfPizzasPueblito['price-food'].mean()"
   ]
  },
  {
   "cell_type": "code",
   "execution_count": 6,
   "id": "early-speaking",
   "metadata": {},
   "outputs": [],
   "source": [
    "import matplotlib.pyplot as plt"
   ]
  },
  {
   "cell_type": "code",
   "execution_count": 7,
   "id": "english-mixture",
   "metadata": {},
   "outputs": [
    {
     "data": {
      "image/png": "[encoded data removed]",
      "text/plain": [
       "<Figure size 864x360 with 1 Axes>"
      ]
     },
     "metadata": {
      "needs_background": "light"
     },
     "output_type": "display_data"
    }
   ],
   "source": [
    "colonies = ['Centro', 'Alamos', 'Juriquilla', 'Milenio', 'Refugio', 'Balvanera', 'Campanario', 'Cerrito', 'Cimatario', 'Pueblito']\n",
    "means = [meanPizzaCentroVal, meanPizzaAlamosVal, meanPizzaJuriquillaVal, meanPizzaMilenioVal, meanPizzaRefugioVal, meanPizzaBalvaneraVal, meanPizzaCampanarioVal, meanPizzaCerritoVal, meanPizzaCimatarioVal, meanPizzaPueblitoVal]\n",
    "\n",
    "plt.figure(figsize = (12, 5))\n",
    "plt.title('Pizza price means by colony')\n",
    "plt.bar(colonies, means, 0.5)\n",
    "plt.show()"
   ]
  }
 ],
 "metadata": {
  "kernelspec": {
   "display_name": "Python 3",
   "language": "python",
   "name": "python3"
  },
  "language_info": {
   "codemirror_mode": {
    "name": "ipython",
    "version": 3
   },
   "file_extension": ".py",
   "mimetype": "text/x-python",
   "name": "python",
   "nbconvert_exporter": "python",
   "pygments_lexer": "ipython3",
   "version": "3.6.9"
  }
 },
 "nbformat": 4,
 "nbformat_minor": 5
}
